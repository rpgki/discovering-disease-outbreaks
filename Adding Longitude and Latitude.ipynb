{
 "cells": [
  {
   "cell_type": "code",
   "execution_count": 1,
   "metadata": {},
   "outputs": [],
   "source": [
    "### Reading the dataframe with cities and countries\n",
    "import pandas as pd\n",
    "\n",
    "data = pd.read_csv('headline_df.csv')"
   ]
  },
  {
   "cell_type": "code",
   "execution_count": 2,
   "metadata": {},
   "outputs": [],
   "source": [
    "### Assigning geographic coordinates to cities\n",
    "import geonamescache\n",
    "\n",
    "gc = geonamescache.GeonamesCache()\n",
    "\n",
    "latitudes, longitudes = [], []\n",
    "for city_name in data.City.values:\n",
    "    city = max(gc.get_cities_by_name(city_name),\n",
    "            key=lambda x: list(x.values())[0]['population'])\n",
    "    city = list(city.values())[0]\n",
    "    latitudes.append(city['latitude'])\n",
    "    longitudes.append(city['longitude'])\n",
    "\n",
    "data = data.assign(Latitude = latitudes, Longitude = longitudes)"
   ]
  },
  {
   "cell_type": "code",
   "execution_count": 3,
   "metadata": {},
   "outputs": [],
   "source": [
    "# Save dataframe for later use\n",
    "data.to_csv('headline_lat_lon_df.csv',index=False)"
   ]
  }
 ],
 "metadata": {
  "interpreter": {
   "hash": "10d6d93e9ba38ae4fe6691c9067422b25445c52ec271d6c2560661b7d8c58a2b"
  },
  "kernelspec": {
   "display_name": "Python 3.7.12 64-bit ('discovering-disease-outbreaks': conda)",
   "language": "python",
   "name": "python3"
  },
  "language_info": {
   "codemirror_mode": {
    "name": "ipython",
    "version": 3
   },
   "file_extension": ".py",
   "mimetype": "text/x-python",
   "name": "python",
   "nbconvert_exporter": "python",
   "pygments_lexer": "ipython3",
   "version": "3.7.12"
  },
  "orig_nbformat": 4
 },
 "nbformat": 4,
 "nbformat_minor": 2
}
