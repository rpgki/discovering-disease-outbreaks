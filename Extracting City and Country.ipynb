{
 "cells": [
  {
   "cell_type": "code",
   "execution_count": 1,
   "metadata": {},
   "outputs": [
    {
     "name": "stdout",
     "output_type": "stream",
     "text": [
      "650 headlines have been loaded\n"
     ]
    }
   ],
   "source": [
    "# Loading headline data\n",
    "headline_file = open('C:\\\\Users\\\\sol23\\\\Documents\\\\Discovering Disease Outbreaks\\\\data\\\\headlines.txt','r')\n",
    "headlines = [line.strip()\n",
    "             for line in headline_file.readlines()]\n",
    "num_headlines = len(headlines)\n",
    "print(f\"{num_headlines} headlines have been loaded\")"
   ]
  },
  {
   "cell_type": "code",
   "execution_count": 2,
   "metadata": {},
   "outputs": [],
   "source": [
    "from unidecode import unidecode\n",
    "import re\n",
    "\n",
    "# Converting names to regexes\n",
    "def name_to_regex(name):\n",
    "    decoded_name = unidecode(name)\n",
    "    if name != decoded_name:\n",
    "        regex = fr'\\b({name}|{decoded_name})\\b'\n",
    "    else:\n",
    "        regex = fr'\\b{name}\\b'\n",
    "    return re.compile(regex, flags=re.IGNORECASE)"
   ]
  },
  {
   "cell_type": "code",
   "execution_count": 3,
   "metadata": {},
   "outputs": [],
   "source": [
    "import geonamescache\n",
    "\n",
    "gc = geonamescache.GeonamesCache()\n",
    "\n",
    "# Mapping names to regexes\n",
    "countries = [country['name']\n",
    "            for country in gc.get_countries().values()]\n",
    "\n",
    "country_to_name = {name_to_regex(name): name\n",
    "                    for name in countries}\n",
    "\n",
    "cities = [city['name'] for city in gc.get_cities().values()]\n",
    "city_to_name = {name_to_regex(name): name for name in cities}"
   ]
  },
  {
   "cell_type": "code",
   "execution_count": 4,
   "metadata": {},
   "outputs": [],
   "source": [
    "# Finding locations in text\n",
    "def get_name_in_text(text, dictionary):\n",
    "    for regex, name in sorted(dictionary.items(),\n",
    "                                key=lambda x:x[1]):\n",
    "        if regex.search(text):\n",
    "            return name\n",
    "    return None"
   ]
  },
  {
   "cell_type": "code",
   "execution_count": 5,
   "metadata": {},
   "outputs": [],
   "source": [
    "# Finding locations in headlines\n",
    "import pandas as pd\n",
    "\n",
    "matched_countries = [get_name_in_text(headline, country_to_name)\n",
    "                     for headline in headlines]\n",
    "matched_cities = [get_name_in_text(headline, city_to_name)\n",
    "                  for headline in headlines]\n",
    "data = {'Headline': headlines, 'City': matched_cities, 'Country': matched_countries}\n",
    "df = pd.DataFrame(data)"
   ]
  },
  {
   "cell_type": "code",
   "execution_count": 6,
   "metadata": {},
   "outputs": [
    {
     "name": "stdout",
     "output_type": "stream",
     "text": [
      "       City   Country\n",
      "count   619        15\n",
      "unique  510        10\n",
      "top      Of  Malaysia\n",
      "freq     45         3\n"
     ]
    }
   ],
   "source": [
    "# Summarizing the location data\n",
    "summary = df[['City','Country']].describe()\n",
    "print(summary)"
   ]
  },
  {
   "cell_type": "code",
   "execution_count": 7,
   "metadata": {},
   "outputs": [
    {
     "name": "stdout",
     "output_type": "stream",
     "text": [
      "City                                           Headline\n",
      "  Of              Case of Measles Reported in Vancouver\n",
      "  Of  Authorities are Worried about the Spread of Br...\n",
      "  Of  Authorities are Worried about the Spread of Ma...\n",
      "  Of  Rochester authorities confirmed the spread of ...\n",
      "  Of     Tokyo Encounters Severe Symptoms of Meningitis\n",
      "  Of  Authorities are Worried about the Spread of In...\n",
      "  Of            Spike of Pneumonia Cases in Springfield\n",
      "  Of  The Spread of Measles in Spokane has been Conf...\n",
      "  Of                    Outbreak of Zika in Panama City\n",
      "  Of    Urbana Encounters Severe Symptoms of Meningitis\n"
     ]
    }
   ],
   "source": [
    "# Fetching cities named \"Of\"\n",
    "of_cities = df[df.City == 'Of'][['City','Headline']]\n",
    "ten_of_cities = of_cities.head(10)\n",
    "print(ten_of_cities.to_string(index=False))"
   ]
  },
  {
   "cell_type": "code",
   "execution_count": 8,
   "metadata": {},
   "outputs": [
    {
     "name": "stdout",
     "output_type": "stream",
     "text": [
      "68 headlines match multiple cities\n"
     ]
    }
   ],
   "source": [
    "# Finding multicity headlines\n",
    "def get_cities_in_headline(headline):\n",
    "    cities_in_headline = set()\n",
    "    for regex, name in city_to_name.items():\n",
    "        match = regex.search(headline)\n",
    "        if match:\n",
    "            if headline[match.start()].isupper():\n",
    "                cities_in_headline.add(name)\n",
    "    return list(cities_in_headline)\n",
    "\n",
    "df['Cities'] = df['Headline'].apply(get_cities_in_headline)\n",
    "df['Num_cities'] = df['Cities'].apply(len)\n",
    "df_multiple_cities = df[df.Num_cities > 1]\n",
    "num_rows, _ = df_multiple_cities.shape\n",
    "print(f\"{num_rows} headlines match multiple cities\")"
   ]
  },
  {
   "cell_type": "code",
   "execution_count": 9,
   "metadata": {},
   "outputs": [
    {
     "name": "stdout",
     "output_type": "stream",
     "text": [
      "City                                           Headline\n",
      "  Of              Case of Measles Reported in Vancouver\n",
      "  Of  Authorities are Worried about the Spread of Br...\n",
      "  Of  Authorities are Worried about the Spread of Ma...\n",
      "  Of  Rochester authorities confirmed the spread of ...\n",
      "  Of     Tokyo Encounters Severe Symptoms of Meningitis\n",
      "  Of  Authorities are Worried about the Spread of In...\n",
      "  Of            Spike of Pneumonia Cases in Springfield\n",
      "  Of  The Spread of Measles in Spokane has been Conf...\n",
      "  Of                    Outbreak of Zika in Panama City\n",
      "  Of    Urbana Encounters Severe Symptoms of Meningitis\n"
     ]
    }
   ],
   "source": [
    "# Sampling multicity headlines\n",
    "ten_cities = df_multiple_cities[['Cities','Headline']].head(10)\n",
    "print(ten_of_cities.to_string(index=False))"
   ]
  },
  {
   "cell_type": "code",
   "execution_count": 10,
   "metadata": {},
   "outputs": [],
   "source": [
    "# Selecting the longest city names\n",
    "def get_longest_city(cities):\n",
    "    if cities:\n",
    "        return(max(cities, key=len))\n",
    "    return None\n",
    "\n",
    "df['City'] = df['Cities'].apply(get_longest_city)"
   ]
  },
  {
   "cell_type": "code",
   "execution_count": 11,
   "metadata": {},
   "outputs": [
    {
     "name": "stdout",
     "output_type": "stream",
     "text": [
      " City                                           Headline\n",
      " Lima                Lima tries to address Zika Concerns\n",
      " Pune                     Pune woman diagnosed with Zika\n",
      " Rome  Authorities are Worried about the Spread of Ma...\n",
      " Molo                Molo Cholera Spread Causing Concern\n",
      " Miri                               Zika arrives in Miri\n",
      " Nadi  More people in Nadi are infected with HIV ever...\n",
      " Baud  Rumors about Tuberculosis Spreading in Baud ha...\n",
      " Kobe                     Chikungunya re-emerges in Kobe\n",
      " Waco                More Zika patients reported in Waco\n",
      " Erie                        Erie County sets Zika traps\n",
      " Kent                       Kent is infested with Rabies\n",
      " Reno  The Spread of Gonorrhea in Reno has been Confi...\n",
      " Sibu                      Zika symptoms spotted in Sibu\n",
      " Baku    The Spread of Herpes in Baku has been Confirmed\n",
      " Bonn  Contaminated Meat Brings Trouble for Bonn Farmers\n",
      " Jaén                         Zika Troubles come to Jaen\n",
      " Yuma                       Zika seminars in Yuma County\n",
      " Lyon                   Mad Cow Disease Detected in Lyon\n",
      " Yiwu  Authorities are Worried about the Spread of He...\n",
      " Suva  Suva authorities confirmed the spread of Rotav...\n"
     ]
    }
   ],
   "source": [
    "# Printing the shortest city names\n",
    "short_cities = df[df.City.str.len() <= 4][['City','Headline']]\n",
    "print(short_cities.to_string(index=False))"
   ]
  },
  {
   "cell_type": "code",
   "execution_count": 12,
   "metadata": {},
   "outputs": [
    {
     "name": "stdout",
     "output_type": "stream",
     "text": [
      "             City    Country                                           Headline\n",
      "           Recife     Brazil            Mystery Virus Spreads in Recife, Brazil\n",
      " Ho Chi Minh City    Vietnam     Zika cases in Vietnam's Ho Chi Minh City surge\n",
      "          Bangkok   Thailand                     Thailand-Zika Virus in Bangkok\n",
      "       Piracicaba     Brazil                Zika outbreak in Piracicaba, Brazil\n",
      "            Klang   Malaysia                   Zika surfaces in Klang, Malaysia\n",
      "   Guatemala City  Guatemala  Rumors about Meningitis spreading in Guatemala...\n",
      "      Belize City     Belize                 Belize City under threat from Zika\n",
      "         Campinas     Brazil                   Student sick in Campinas, Brazil\n",
      "      Mexico City     Mexico               Zika outbreak spreads to Mexico City\n",
      "    Kota Kinabalu   Malaysia           New Zika Case in Kota Kinabalu, Malaysia\n",
      "      Johor Bahru   Malaysia                 Zika reaches Johor Bahru, Malaysia\n",
      "        Hong Kong  Hong Kong                    Norovirus Exposure in Hong Kong\n",
      "      Panama City     Panama                    Outbreak of Zika in Panama City\n",
      "        Singapore  Singapore                  Zika cases in Singapore reach 393\n",
      "           Panamá     Panama           Panama Cityâ€™s first Zika related death\n"
     ]
    }
   ],
   "source": [
    "# Fetching headlines with countries\n",
    "df_countries = df[df.Country.notnull()][['City',\n",
    "                                         'Country',\n",
    "                                         'Headline']]\n",
    "print(df_countries.to_string(index=False))"
   ]
  },
  {
   "cell_type": "code",
   "execution_count": 13,
   "metadata": {},
   "outputs": [],
   "source": [
    "# Dropping countries from the table\n",
    "df.drop('Country', axis=1, inplace=True)"
   ]
  },
  {
   "cell_type": "code",
   "execution_count": 14,
   "metadata": {},
   "outputs": [
    {
     "name": "stdout",
     "output_type": "stream",
     "text": [
      "39 headlines contain no city matches.\n",
      "[['Louisiana Zika cases up to 26']\n",
      " ['Zika infects pregnant woman in Cebu']\n",
      " ['Spanish Flu Sighted in Antigua']\n",
      " ['Zika case reported in Oton']\n",
      " ['Hillsborough uses innovative trap against Zika 20 minutes ago']\n",
      " ['Maka City Experiences Influenza Outbreak']\n",
      " ['West Nile Virus Outbreak in Saint Johns']\n",
      " ['Malaria Exposure in Sussex']\n",
      " ['Greenwich Establishes Zika Task Force']\n",
      " ['Will West Nile Virus vaccine help Parsons?']]\n"
     ]
    }
   ],
   "source": [
    "# Exploring unmatched headlines\n",
    "df_unmatched = df[df.City.isnull()]\n",
    "num_unmatched = len(df_unmatched)\n",
    "print(f\"{num_unmatched} headlines contain no city matches.\")\n",
    "print(df_unmatched.head(10)[['Headline']].values)"
   ]
  },
  {
   "cell_type": "code",
   "execution_count": 15,
   "metadata": {},
   "outputs": [],
   "source": [
    "# Dropping unmatched headlines\n",
    "df = df[~df.City.isnull()][['City','Headline']]"
   ]
  },
  {
   "cell_type": "code",
   "execution_count": 19,
   "metadata": {},
   "outputs": [],
   "source": [
    "# Adding headlines with countries\n",
    "rsl = df.merge(df_countries, on='Headline',how='left')\n",
    "rsl.drop('City_y', axis=1, inplace=True)\n",
    "rsl.rename(columns={'City_x': 'City'}, inplace=True)"
   ]
  },
  {
   "cell_type": "code",
   "execution_count": 20,
   "metadata": {},
   "outputs": [],
   "source": [
    "# Save dataframe for later use\n",
    "rsl.to_csv('headline_df.csv',index=False)"
   ]
  }
 ],
 "metadata": {
  "interpreter": {
   "hash": "10d6d93e9ba38ae4fe6691c9067422b25445c52ec271d6c2560661b7d8c58a2b"
  },
  "kernelspec": {
   "display_name": "Python 3.7.12 64-bit ('discovering-disease-outbreaks': conda)",
   "language": "python",
   "name": "python3"
  },
  "language_info": {
   "codemirror_mode": {
    "name": "ipython",
    "version": 3
   },
   "file_extension": ".py",
   "mimetype": "text/x-python",
   "name": "python",
   "nbconvert_exporter": "python",
   "pygments_lexer": "ipython3",
   "version": "3.7.12"
  },
  "orig_nbformat": 4
 },
 "nbformat": 4,
 "nbformat_minor": 2
}
